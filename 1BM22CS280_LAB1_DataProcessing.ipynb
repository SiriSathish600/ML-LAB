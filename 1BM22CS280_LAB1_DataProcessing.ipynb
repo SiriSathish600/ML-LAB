{
  "nbformat": 4,
  "nbformat_minor": 0,
  "metadata": {
    "colab": {
      "provenance": [],
      "authorship_tag": "ABX9TyMSwE6vi7pUNkOZTRQRJM6a",
      "include_colab_link": true
    },
    "kernelspec": {
      "name": "python3",
      "display_name": "Python 3"
    },
    "language_info": {
      "name": "python"
    }
  },
  "cells": [
    {
      "cell_type": "markdown",
      "metadata": {
        "id": "view-in-github",
        "colab_type": "text"
      },
      "source": [
        "<a href=\"https://colab.research.google.com/github/SiriSathish600/ML-LAB/blob/main/1BM22CS280_LAB1_DataProcessing.ipynb\" target=\"_parent\"><img src=\"https://colab.research.google.com/assets/colab-badge.svg\" alt=\"Open In Colab\"/></a>"
      ]
    },
    {
      "cell_type": "code",
      "execution_count": null,
      "metadata": {
        "colab": {
          "base_uri": "https://localhost:8080/"
        },
        "id": "oLmDm88GA-YT",
        "outputId": "8ac7f450-0e3e-482a-ad77-1cd975806695"
      },
      "outputs": [
        {
          "output_type": "stream",
          "name": "stdout",
          "text": [
            "Columns with missing values in 'adult.csv': []\n",
            "Columns with missing values in 'dataset of diabetes .csv': []\n"
          ]
        }
      ],
      "source": [
        "import pandas as pd\n",
        "\n",
        "# Load the 'adult.csv' dataset\n",
        "df4 = pd.read_csv('adult.csv')\n",
        "\n",
        "# For 'adult.csv' (df4)\n",
        "missing_cols_adult = df4.columns[df4.isnull().sum() > 0]\n",
        "print(f\"Columns with missing values in 'adult.csv': {missing_cols_adult.tolist()}\")\n",
        "\n",
        "# Load the 'Dataset of Diabetes.csv' dataset\n",
        "df5 = pd.read_csv('dataset of diabetes.csv') # This line is added to load data into df5\n",
        "\n",
        "# For 'Dataset of Diabetes .csv' (df5)\n",
        "missing_cols_diabetes = df5.columns[df5.isnull().sum() > 0]\n",
        "print(f\"Columns with missing values in 'dataset of diabetes .csv': {missing_cols_diabetes.tolist()}\")"
      ]
    },
    {
      "cell_type": "code",
      "source": [
        "missing_col=df.columns[df.isnull().sum()>0]\n",
        "missing_col"
      ],
      "metadata": {
        "id": "-eRVNgJVC3Ys",
        "outputId": "35819ac9-e761-4711-c029-5c4f70d81669",
        "colab": {
          "base_uri": "https://localhost:8080/"
        }
      },
      "execution_count": 7,
      "outputs": [
        {
          "output_type": "execute_result",
          "data": {
            "text/plain": [
              "Index([], dtype='object')"
            ]
          },
          "metadata": {},
          "execution_count": 7
        }
      ]
    },
    {
      "cell_type": "code",
      "source": [
        "# For 'adult.csv' (df4)\n",
        "categorical_cols_adult = df4.select_dtypes(include=['object']).columns\n",
        "print(f\"Categorical columns in 'adult.csv': {categorical_cols_adult.tolist()}\")\n",
        "\n",
        "   # For 'Dataset of Diabetes .csv' (df5)\n",
        "categorical_cols_diabetes = df5.select_dtypes(include=['object']).columns\n",
        "print(f\"Categorical columns in 'Dataset of Diabetes .csv': {categorical_cols_diabetes.tolist()}\")"
      ],
      "metadata": {
        "colab": {
          "base_uri": "https://localhost:8080/"
        },
        "id": "_tEIHP4LELZm",
        "outputId": "8ee2f9c7-52d4-4d19-ce30-c31e6989d985"
      },
      "execution_count": 5,
      "outputs": [
        {
          "output_type": "stream",
          "name": "stdout",
          "text": [
            "Categorical columns in 'adult.csv': ['workclass', 'education', 'marital-status', 'occupation', 'relationship', 'race', 'gender', 'native-country', 'income']\n",
            "Categorical columns in 'Dataset of Diabetes .csv': ['Gender', 'CLASS']\n"
          ]
        }
      ]
    }
  ]
}